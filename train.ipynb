{
 "cells": [
  {
   "cell_type": "code",
   "execution_count": 5,
   "id": "0d7ce51a",
   "metadata": {},
   "outputs": [
    {
     "name": "stdout",
     "output_type": "stream",
     "text": [
      "Requirement already satisfied: pandas in /Library/Frameworks/Python.framework/Versions/3.7/lib/python3.7/site-packages (1.1.2)\n",
      "Requirement already satisfied: numpy>=1.15.4 in /Library/Frameworks/Python.framework/Versions/3.7/lib/python3.7/site-packages (from pandas) (1.19.2)\n",
      "Requirement already satisfied: pytz>=2017.2 in /Library/Frameworks/Python.framework/Versions/3.7/lib/python3.7/site-packages (from pandas) (2020.1)\n",
      "Requirement already satisfied: python-dateutil>=2.7.3 in /Library/Frameworks/Python.framework/Versions/3.7/lib/python3.7/site-packages (from pandas) (2.8.1)\n",
      "Requirement already satisfied: six>=1.5 in /Library/Frameworks/Python.framework/Versions/3.7/lib/python3.7/site-packages (from python-dateutil>=2.7.3->pandas) (1.15.0)\n",
      "Requirement already satisfied: sklearn in /Library/Frameworks/Python.framework/Versions/3.7/lib/python3.7/site-packages (0.0)\n",
      "Requirement already satisfied: scikit-learn in /Library/Frameworks/Python.framework/Versions/3.7/lib/python3.7/site-packages (from sklearn) (0.24.2)\n",
      "Requirement already satisfied: scipy>=0.19.1 in /Library/Frameworks/Python.framework/Versions/3.7/lib/python3.7/site-packages (from scikit-learn->sklearn) (1.6.3)\n",
      "Requirement already satisfied: joblib>=0.11 in /Library/Frameworks/Python.framework/Versions/3.7/lib/python3.7/site-packages (from scikit-learn->sklearn) (1.0.1)\n",
      "Requirement already satisfied: threadpoolctl>=2.0.0 in /Library/Frameworks/Python.framework/Versions/3.7/lib/python3.7/site-packages (from scikit-learn->sklearn) (2.1.0)\n",
      "Requirement already satisfied: numpy>=1.13.3 in /Library/Frameworks/Python.framework/Versions/3.7/lib/python3.7/site-packages (from scikit-learn->sklearn) (1.19.2)\n",
      "Collecting tqdm\n",
      "  Using cached tqdm-4.61.0-py2.py3-none-any.whl (75 kB)\n",
      "Installing collected packages: tqdm\n",
      "Successfully installed tqdm-4.61.0\n"
     ]
    }
   ],
   "source": [
    "!pip3 install pandas\n",
    "!pip3 install sklearn\n",
    "!pip3 install tqdm"
   ]
  },
  {
   "cell_type": "code",
   "execution_count": 6,
   "id": "c493efa1",
   "metadata": {
    "scrolled": true
   },
   "outputs": [],
   "source": [
    "#coding=utf-8\n",
    "import csv\n",
    "import os\n",
    "import numpy as np\n",
    "import pandas as pd\n",
    "import jieba\n",
    "from sklearn.linear_model import LogisticRegression\n",
    "from sklearn.metrics import accuracy_score, confusion_matrix, classification_report\n",
    "from sklearn.model_selection import train_test_split\n",
    "from sklearn.pipeline import Pipeline\n",
    "from sklearn.feature_selection import mutual_info_classif\n",
    "from tqdm import tqdm\n",
    "from collections import Counter\n",
    "from sklearn.feature_extraction.text import TfidfVectorizer\n",
    "from sklearn.feature_extraction.text import CountVectorizer\n",
    "from sklearn.feature_extraction.text import KNeighborsClassifier"
   ]
  },
  {
   "cell_type": "code",
   "execution_count": 8,
   "id": "1fb368c4",
   "metadata": {},
   "outputs": [],
   "source": [
    "def stopwordslist():\n",
    "    stopwords = [line.strip() for line in open('null.txt', encoding='UTF-8').readlines()]\n",
    "    return stopwords\n",
    "\n",
    "def seg_depart(sentence):\n",
    "    # 对文档中的每一行进行中文分词\n",
    "    # print(\"正在分词\")\n",
    "    sentence_depart = jieba.cut(str(sentence).strip())\n",
    "    # 创建一个停用词列表\n",
    "    stopwords = stopwordslist()\n",
    "    # 输出结果为outstr\n",
    "    outstr = ''\n",
    "    # 去停用词\n",
    "    for word in sentence_depart:\n",
    "        if word not in stopwords:\n",
    "            if word != '\\t':\n",
    "                outstr += word\n",
    "                outstr += \" \"\n",
    "    return outstr\n",
    "def data_get():\n",
    "    data_0 = pd.read_csv(\"体育.csv\")\n",
    "    data_1 = pd.read_csv(\"彩票.csv\")\n",
    "    data_2 = pd.read_csv(\"房产.csv\")\n",
    "    data_3 = pd.read_csv(\"时政.csv\")\n",
    "    data_4 = pd.read_csv(\"社会.csv\")\n",
    "    data_5 = pd.read_csv(\"股票.csv\")\n",
    "    data_6 = pd.read_csv(\"财经.csv\")\n",
    "    data = pd.concat([data_0, data_1, data_2, data_3, data_4, data_5, data_6]).reset_index(drop = True)\n",
    "    return data\n",
    "\n",
    "def train():\n",
    "    x_train,x_test,y_train,y_test = train_test_split(seg_depart(data['text']), data.class_name, test_size=0.2, random_state=2020)\n",
    "\n",
    "    pipe = Pipeline([('vect', CountVectorizer()),\n",
    "                     ('tfidf', TfidfTransformer(binary=True)),\n",
    "                     ('model', LogisticRegression())])\n",
    "\n",
    "    model = pipe.fit(x_train, y_train)\n",
    "    prediction = model.predict(x_test)\n",
    "    print(\"accuracy: {}%\".format(round(accuracy_score(y_test, prediction)*100,2)))"
   ]
  },
  {
   "cell_type": "code",
   "execution_count": 10,
   "id": "6d52b3a9",
   "metadata": {},
   "outputs": [],
   "source": [
    "data = data_get()"
   ]
  },
  {
   "cell_type": "code",
   "execution_count": 11,
   "id": "8e3af13b",
   "metadata": {},
   "outputs": [],
   "source": [
    "newData = pd.Series(len(data.text))"
   ]
  },
  {
   "cell_type": "code",
   "execution_count": 12,
   "id": "43ff4f0b",
   "metadata": {},
   "outputs": [
    {
     "name": "stderr",
     "output_type": "stream",
     "text": [
      "  0%|          | 0/126920 [00:00<?, ?it/s]Building prefix dict from the default dictionary ...\n",
      "Loading model from cache /var/folders/yj/fg65d18x5r51k2d5h2_ql1w40000gn/T/jieba.cache\n",
      "Loading model cost 0.754 seconds.\n",
      "Prefix dict has been built successfully.\n",
      "100%|██████████| 126920/126920 [53:39<00:00, 39.42it/s] \n"
     ]
    }
   ],
   "source": [
    "for i in tqdm(range(len(data.text))):\n",
    "        newData[i] = seg_depart(data.text[i])"
   ]
  },
  {
   "cell_type": "code",
   "execution_count": 13,
   "id": "b40f02e1",
   "metadata": {},
   "outputs": [],
   "source": [
    " x_train, x_test, y_train, y_test = train_test_split(newData, data.class_name, test_size=0.2,\n",
    "                                                        random_state=2020)"
   ]
  },
  {
   "cell_type": "code",
   "execution_count": 36,
   "id": "e5db1a31",
   "metadata": {},
   "outputs": [],
   "source": [
    "from sklearn.svm import LinearSVC\n",
    "pipe = Pipeline([('vect', CountVectorizer()),\n",
    "                     ('tfidf',TfidfTransformer()),\n",
    "                     ('model', LinearSVC())])\n",
    "\n",
    "model = pipe.fit(x_train, y_train)"
   ]
  },
  {
   "cell_type": "code",
   "execution_count": 37,
   "id": "16006c93",
   "metadata": {},
   "outputs": [
    {
     "name": "stdout",
     "output_type": "stream",
     "text": [
      "accuracy: 96.14%\n",
      "[[3707   15    1    6    9    2    1]\n",
      " [  14 1434    0    2   28    0    1]\n",
      " [   1    0 3951   36   55   24    6]\n",
      " [  14    2   20 4318   74   78   29]\n",
      " [   4   13   17   62 3963    3   20]\n",
      " [   3    0    8   91    9 4335   74]\n",
      " [   2    0   28   42   49  137 2696]]\n",
      "              precision    recall  f1-score   support\n",
      "\n",
      "          体育       0.99      0.99      0.99      3741\n",
      "          彩票       0.98      0.97      0.97      1479\n",
      "          房产       0.98      0.97      0.98      4073\n",
      "          时政       0.95      0.95      0.95      4535\n",
      "          社会       0.95      0.97      0.96      4082\n",
      "          股票       0.95      0.96      0.95      4520\n",
      "          财经       0.95      0.91      0.93      2954\n",
      "\n",
      "    accuracy                           0.96     25384\n",
      "   macro avg       0.96      0.96      0.96     25384\n",
      "weighted avg       0.96      0.96      0.96     25384\n",
      "\n"
     ]
    }
   ],
   "source": [
    "prediction = model.predict(x_test)\n",
    "print(\"accuracy: {}%\".format(round(accuracy_score(y_test, prediction) * 100, 2)))\n",
    "print(confusion_matrix(y_test, prediction))\n",
    "print(classification_report(y_test, prediction))"
   ]
  }
 ],
 "metadata": {
  "kernelspec": {
   "display_name": "Python 3",
   "language": "python",
   "name": "python3"
  },
  "language_info": {
   "codemirror_mode": {
    "name": "ipython",
    "version": 3
   },
   "file_extension": ".py",
   "mimetype": "text/x-python",
   "name": "python",
   "nbconvert_exporter": "python",
   "pygments_lexer": "ipython3",
   "version": "3.7.8"
  }
 },
 "nbformat": 4,
 "nbformat_minor": 5
}
